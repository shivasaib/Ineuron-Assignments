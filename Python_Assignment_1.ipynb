{
 "cells": [
  {
   "cell_type": "raw",
   "metadata": {},
   "source": [
    "1. Write a program which will find all such numbers which are divisible by 7 but are not a multiple of 5, between 2000 and 3200 (both included). The numbers obtained should be printed  in a comma-separated sequence on a single line. \n"
   ]
  },
  {
   "cell_type": "code",
   "execution_count": 8,
   "metadata": {},
   "outputs": [
    {
     "name": "stdout",
     "output_type": "stream",
     "text": [
      "2000,2005,2010,2015,2020,2025,2035,2040,2045,2050,2055,2060,2070,2075,2080,2085,2090,2095,2105,2110,2115,2120,2125,2130,2140,2145,2150,2155,2160,2165,2175,2180,2185,2190,2195,2200,2210,2215,2220,2225,2230,2235,2245,2250,2255,2260,2265,2270,2280,2285,2290,2295,2300,2305,2315,2320,2325,2330,2335,2340,2350,2355,2360,2365,2370,2375,2385,2390,2395,2400,2405,2410,2420,2425,2430,2435,2440,2445,2455,2460,2465,2470,2475,2480,2490,2495,2500,2505,2510,2515,2525,2530,2535,2540,2545,2550,2560,2565,2570,2575,2580,2585,2595,2600,2605,2610,2615,2620,2630,2635,2640,2645,2650,2655,2665,2670,2675,2680,2685,2690,2700,2705,2710,2715,2720,2725,2735,2740,2745,2750,2755,2760,2770,2775,2780,2785,2790,2795,2805,2810,2815,2820,2825,2830,2840,2845,2850,2855,2860,2865,2875,2880,2885,2890,2895,2900,2910,2915,2920,2925,2930,2935,2945,2950,2955,2960,2965,2970,2980,2985,2990,2995,3000,3005,3015,3020,3025,3030,3035,3040,3050,3055,3060,3065,3070,3075,3085,3090,3095,3100,3105,3110,3120,3125,3130,3135,3140,3145,3155,3160,3165,3170,3175,3180,3190,3195,3200,"
     ]
    }
   ],
   "source": [
    "for i in range(2000,3201):\n",
    "    if i % 7 != 0:\n",
    "        if i % 5==0:\n",
    "            print(i,end=\",\")\n",
    "            "
   ]
  },
  {
   "cell_type": "code",
   "execution_count": null,
   "metadata": {},
   "outputs": [],
   "source": []
  },
  {
   "cell_type": "raw",
   "metadata": {},
   "source": [
    "2.Write a Python program to accept the user's first and last name and then getting them printed in the the reverse order with a space between first name and last name. "
   ]
  },
  {
   "cell_type": "code",
   "execution_count": 15,
   "metadata": {},
   "outputs": [
    {
     "name": "stdout",
     "output_type": "stream",
     "text": [
      "Enter your first name one\n",
      "Enter your last name two\n",
      "eno owt\n"
     ]
    }
   ],
   "source": [
    "first_name =input(\"Enter your first name \")\n",
    "last_name = input(\"Enter your last name \")\n",
    "\n",
    "print(first_name[::-1]+' '+last_name[::-1])\n"
   ]
  },
  {
   "cell_type": "code",
   "execution_count": null,
   "metadata": {},
   "outputs": [],
   "source": []
  },
  {
   "cell_type": "raw",
   "metadata": {},
   "source": [
    "3. Write a Python program to find the volume of a sphere with diameter 12 cm.Formula: V=4/3 * π * r 3 "
   ]
  },
  {
   "cell_type": "code",
   "execution_count": 16,
   "metadata": {},
   "outputs": [],
   "source": [
    "from math import pi"
   ]
  },
  {
   "cell_type": "code",
   "execution_count": 18,
   "metadata": {},
   "outputs": [],
   "source": [
    "diameter =12\n",
    "\n",
    "radius = diameter/2"
   ]
  },
  {
   "cell_type": "code",
   "execution_count": 23,
   "metadata": {},
   "outputs": [],
   "source": [
    "volume_of_sphere = 4/3 * pi * (radius)**3"
   ]
  },
  {
   "cell_type": "code",
   "execution_count": 24,
   "metadata": {},
   "outputs": [
    {
     "data": {
      "text/plain": [
       "904.7786842338603"
      ]
     },
     "execution_count": 24,
     "metadata": {},
     "output_type": "execute_result"
    }
   ],
   "source": [
    "volume_of_sphere"
   ]
  },
  {
   "cell_type": "code",
   "execution_count": null,
   "metadata": {},
   "outputs": [],
   "source": []
  }
 ],
 "metadata": {
  "kernelspec": {
   "display_name": "Python 3",
   "language": "python",
   "name": "python3"
  },
  "language_info": {
   "codemirror_mode": {
    "name": "ipython",
    "version": 3
   },
   "file_extension": ".py",
   "mimetype": "text/x-python",
   "name": "python",
   "nbconvert_exporter": "python",
   "pygments_lexer": "ipython3",
   "version": "3.8.3"
  }
 },
 "nbformat": 4,
 "nbformat_minor": 4
}
